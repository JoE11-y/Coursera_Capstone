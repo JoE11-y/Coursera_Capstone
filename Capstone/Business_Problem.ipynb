{
    "cells": [
        {
            "cell_type": "markdown",
            "metadata": {},
            "source": "# CAPSTONE PPROJECT"
        },
        {
            "cell_type": "markdown",
            "metadata": {
                "collapsed": true
            },
            "source": "## Table of contents\n* [Introduction: Business Problem](#introduction)\n* [Data](#data)\n* [Methodology](#methodology)\n* [Analysis](#analysis)\n* [Results and Discussion](#results)\n* [Conclusion](#conclusion)"
        },
        {
            "cell_type": "markdown",
            "metadata": {},
            "source": "## Business Problem"
        },
        {
            "cell_type": "markdown",
            "metadata": {},
            "source": "In this project, We will be working on ways to optimise investing in the real estate sector in Nigeria (Lagos State), which has become increasingly popular over the last couple of years and has become a common investment thread.\n\nThe Real Estate sector is currently booming in Nigeria and people are making millions in it, irrespective of the economic downturn, it can be seen as a real money spinner.\n\nWe will be using the Power of Data Science to help the investor determine the areas where acquiring the properties will be beneficial or profitable while taking note of the kind of investment the investor requires, be it rentals, property development or land flipping.\n\nAdvantages of each area will then be clearly expressed so that best possible final location can be chosen by the investor"
        },
        {
            "cell_type": "code",
            "execution_count": null,
            "metadata": {},
            "outputs": [],
            "source": ""
        }
    ],
    "metadata": {
        "kernelspec": {
            "display_name": "Python 3.7",
            "language": "python",
            "name": "python3"
        },
        "language_info": {
            "codemirror_mode": {
                "name": "ipython",
                "version": 3
            },
            "file_extension": ".py",
            "mimetype": "text/x-python",
            "name": "python",
            "nbconvert_exporter": "python",
            "pygments_lexer": "ipython3",
            "version": "3.7.9"
        }
    },
    "nbformat": 4,
    "nbformat_minor": 1
}